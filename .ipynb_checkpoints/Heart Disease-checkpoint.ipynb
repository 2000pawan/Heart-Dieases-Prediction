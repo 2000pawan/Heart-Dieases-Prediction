{
 "cells": [
  {
   "cell_type": "markdown",
   "id": "ac47588e-cbd4-46e3-9243-2548271e8074",
   "metadata": {},
   "source": [
    "# Heart Disease"
   ]
  },
  {
   "cell_type": "code",
   "execution_count": 173,
   "id": "dca03be5-06ff-410a-883d-136c44b66474",
   "metadata": {},
   "outputs": [],
   "source": [
    "import joblib\n",
    "import pandas as pd\n",
    "import numpy as np\n",
    "import matplotlib.pyplot as plt\n",
    "import seaborn as sns\n",
    "from sklearn.linear_model import LogisticRegression\n",
    "from sklearn.neighbors import KNeighborsClassifier\n",
    "from sklearn.svm import SVC\n",
    "from sklearn.ensemble import RandomForestClassifier\n",
    "from sklearn.tree import DecisionTreeClassifier\n",
    "from sklearn.model_selection import train_test_split\n",
    "from sklearn.metrics import confusion_matrix,precision_score,recall_score,f1_score,classification_report,accuracy_score"
   ]
  },
  {
   "cell_type": "markdown",
   "id": "b3f1fcca-7891-4183-aff3-799cae629555",
   "metadata": {},
   "source": [
    "# EDA"
   ]
  },
  {
   "cell_type": "code",
   "execution_count": 174,
   "id": "0a6c9322-7b95-40c3-91c8-47e1cb31f34a",
   "metadata": {},
   "outputs": [],
   "source": [
    "# df=pd.read_csv('heart.csv')\n",
    "# df.shape\n",
    "# df['target'].value_counts().plot(kind='bar',color=['salmon','lightblue'])\n",
    "# plt.show()\n",
    "# df.info()\n",
    "# df.isnull().sum()\n",
    "# df.describe()\n",
    "# df['sex'].value_counts()\n",
    "# pd.crosstab(df.target,df.sex)\n",
    "# pd.crosstab(df.target, df.sex).plot(kind=\"bar\",figsize=(10,6),color=[\"salmon\",\"lightblue\"])  \n",
    "# plt.title(\"Heart Disease Frerquency for Sex\")  \n",
    "# plt.xlabel(\"0 = No Disease, 1=Disease\")  \n",
    "# plt.ylabel(\"Amount\")  \n",
    "# plt.legend([\"Female\",\"Male\"]);  \n",
    "# plt.xticks(rotation=0);  \n",
    "# plt.figure(figsize=(10,6))\n",
    "# plt.scatter(df.age[df.target==1],df.thalach[df.target==1],c='salmon')\n",
    "# plt.scatter(df.age[df.target==0],df.thalach[df.target==0],c='lightblue')\n",
    "# plt.title('Heart Disease in function of age and max Heart Rate')\n",
    "# plt.xlabel('Age')\n",
    "# plt.ylabel('Max Heart Rate')\n",
    "# plt.legend(['Disease','No Disease'])\n",
    "# plt.show()\n",
    "# df.age.plot.hist()\n",
    "# plt.show()\n",
    "# pd.crosstab(df.cp,df.target)\n",
    "# pd.crosstab(df.cp,df.target).plot(kind='bar',figsize=(10,6),color=['salmon','lightblue'])\n",
    "# plt.title('Heart Disease Frequency Per Chest Pain Type')\n",
    "# plt.xlabel('Chest Pain Type')\n",
    "# plt.ylabel('Amount')\n",
    "# plt.legend(['No Disease','Disease'])\n",
    "# plt.xticks(rotation=0)\n",
    "# plt.show()\n",
    "# df.corr()\n",
    "# corr_matrix=df.corr()\n",
    "# fig,ax=plt.subplots(figsize=(15,10))\n",
    "# ax=sns.heatmap(corr_matrix,annot=True,linewidths=0.5,fmt='.2f',cmap='YlGnBu')\n",
    "# bottom,top=ax.get_ylim()\n",
    "# ax.set_ylim(bottom + 0.5, top-0.5)"
   ]
  },
  {
   "cell_type": "code",
   "execution_count": 175,
   "id": "0728b344-59a1-4065-a234-968714d07a9d",
   "metadata": {},
   "outputs": [],
   "source": [
    "df=pd.read_csv('heart.csv')\n",
    "df.drop(['sex','exang','oldpeak','slope','ca','thal'],axis=1,inplace=True)\n",
    "df.rename(columns={'cp':'chest_pain','trestbps':'blood_pressure','chol':'cholesterol','fbs':'fasting_blood_sugar','restecg':'ecg','thalach':'max_heart_rate'},inplace=True)\n",
    "X=df.iloc[:,:-1].values\n",
    "y=df.iloc[:,-1].values\n",
    "X_train,X_test,y_train,y_test=train_test_split(X,y,test_size=0.3,random_state=1)"
   ]
  },
  {
   "cell_type": "code",
   "execution_count": 176,
   "id": "4e96e5fb-4511-4b9f-872e-b4b3fea287f1",
   "metadata": {},
   "outputs": [],
   "source": [
    "# # KNN\n",
    "# model=KNeighborsClassifier()\n",
    "# model.fit(X_train,y_train)\n",
    "# print('Training Score:-',model.score(X_train,y_train))\n",
    "# print('Testing Score:-',model.score(X_test,y_test))\n",
    "# Training Score:- 0.8577405857740585\n",
    "# Testing Score:- 0.711038961038961\n",
    "\n",
    "# # ---------------------------------------------------------------------------------------------------------------------------------------------------------------------------------\n",
    "# # Decision Tree Classifier\n",
    "# model=DecisionTreeClassifier(random_state=1,max_depth=10)\n",
    "# model.fit(X_train,y_train)\n",
    "# print('Training Score:-',model.score(X_train,y_train))\n",
    "# print('Testing Score:-',model.score(X_test,y_test))\n",
    "# Training Score:- 0.9846582984658299\n",
    "# Testing Score:- 0.935064935064935\n",
    "\n",
    "# # ---------------------------------------------------------------------------------------------------------------------------------------------------------------------------------\n",
    "# # Random Forest Classifier\n",
    "# model=RandomForestClassifier(random_state=1,max_depth=7)\n",
    "# model.fit(X_train,y_train)\n",
    "# print('Training Score:-',model.score(X_train,y_train))\n",
    "# print('Testing Score:-',model.score(X_test,y_test))\n",
    "# Training Score:- 0.9860529986052998\n",
    "# Testing Score:- 0.9318181818181818\n",
    "\n",
    "# # ---------------------------------------------------------------------------------------------------------------------------------------------------------------------------------\n",
    "# # Logistic Regression\n",
    "# model=LogisticRegression(random_state=1,solver='liblinear',max_iter=200)\n",
    "# model.fit(X_train,y_train)\n",
    "# print('Training Score:-',model.score(X_train,y_train))\n",
    "# print('Testing Score:-',model.score(X_test,y_test))\n",
    "# Training Score:- 0.7573221757322176\n",
    "# Testing Score:- 0.737012987012987\n",
    "\n",
    "# # ---------------------------------------------------------------------------------------------------------------------------------------------------------------------------------\n",
    "# # SVM\n",
    "# model=SVC(random_state=1)\n",
    "# model.fit(X_train,y_train)\n",
    "# print('Training Score:-',model.score(X_train,y_train))\n",
    "# print('Testing Score:-',model.score(X_test,y_test))\n",
    "# Training Score:- 0.705718270571827\n",
    "# Testing Score:- 0.6688311688311688\n",
    "\n",
    "# # ---------------------------------------------------------------------------------------------------------------------------------------------------------------------------------"
   ]
  },
  {
   "cell_type": "code",
   "execution_count": 177,
   "id": "1184bb0b-ebe2-46f0-a6b6-a1cb33a680f5",
   "metadata": {},
   "outputs": [
    {
     "name": "stdout",
     "output_type": "stream",
     "text": [
      "Training Score:- 0.9860529986052998\n",
      "Testing Score:- 0.9318181818181818\n"
     ]
    }
   ],
   "source": [
    "# Random Forest Classifier\n",
    "model=RandomForestClassifier(random_state=1,max_depth=7)\n",
    "model.fit(X_train,y_train)\n",
    "print('Training Score:-',model.score(X_train,y_train))\n",
    "print('Testing Score:-',model.score(X_test,y_test))"
   ]
  },
  {
   "cell_type": "code",
   "execution_count": 178,
   "id": "96075b06-6922-4a6d-8bf7-dc9d2b26eedc",
   "metadata": {},
   "outputs": [
    {
     "name": "stdout",
     "output_type": "stream",
     "text": [
      "Accuracy Score:-\n",
      " 0.9318181818181818\n",
      "-------------------------------------------------------------------------\n",
      "Confusion Matrix:-\n",
      " [[150  11]\n",
      " [ 10 137]]\n",
      "-------------------------------------------------------------------------\n",
      "Precision Score:- 0.9256756756756757\n",
      "-------------------------------------------------------------------------\n",
      "Recall Score:- 0.9319727891156463\n",
      "-------------------------------------------------------------------------\n",
      "F1 Score:- 0.9288135593220339\n",
      "-------------------------------------------------------------------------\n",
      "Classification Report:-\n",
      "               precision    recall  f1-score   support\n",
      "\n",
      "           0       0.94      0.93      0.93       161\n",
      "           1       0.93      0.93      0.93       147\n",
      "\n",
      "    accuracy                           0.93       308\n",
      "   macro avg       0.93      0.93      0.93       308\n",
      "weighted avg       0.93      0.93      0.93       308\n",
      "\n",
      "-------------------------------------------------------------------------\n"
     ]
    }
   ],
   "source": [
    "pre=model.predict(X_test)\n",
    "print('Accuracy Score:-\\n',accuracy_score(y_test,pre))\n",
    "print('-------------------------------------------------------------------------')\n",
    "print('Confusion Matrix:-\\n',confusion_matrix(y_test,pre))\n",
    "print('-------------------------------------------------------------------------')\n",
    "print('Precision Score:-',precision_score(y_test,pre))\n",
    "print('-------------------------------------------------------------------------')\n",
    "print('Recall Score:-',recall_score(y_test,pre))\n",
    "print('-------------------------------------------------------------------------')\n",
    "print('F1 Score:-',f1_score(y_test,pre))\n",
    "print('-------------------------------------------------------------------------')\n",
    "print('Classification Report:-\\n',classification_report(y_test,pre))\n",
    "print('-------------------------------------------------------------------------')"
   ]
  },
  {
   "cell_type": "code",
   "execution_count": 179,
   "id": "9a8c2b61-c656-4d6f-a188-02c75b87ee71",
   "metadata": {},
   "outputs": [
    {
     "name": "stdout",
     "output_type": "stream",
     "text": [
      "Accuracy Score:- 0.9860529986052998\n",
      "-------------------------------------------------------------------------\n",
      "Confusion Matrix:-\n",
      " [[334   4]\n",
      " [  6 373]]\n",
      "-------------------------------------------------------------------------\n",
      "Precision Score:- 0.9893899204244032\n",
      "-------------------------------------------------------------------------\n",
      "Recall Score:- 0.9841688654353562\n",
      "-------------------------------------------------------------------------\n",
      "F1 Score:- 0.9867724867724867\n",
      "-------------------------------------------------------------------------\n",
      "Classification Report:-\n",
      "               precision    recall  f1-score   support\n",
      "\n",
      "           0       0.98      0.99      0.99       338\n",
      "           1       0.99      0.98      0.99       379\n",
      "\n",
      "    accuracy                           0.99       717\n",
      "   macro avg       0.99      0.99      0.99       717\n",
      "weighted avg       0.99      0.99      0.99       717\n",
      "\n",
      "-------------------------------------------------------------------------\n"
     ]
    }
   ],
   "source": [
    "pre1=model.predict(X_train)\n",
    "print('Accuracy Score:-',accuracy_score(y_train,pre1))\n",
    "print('-------------------------------------------------------------------------')\n",
    "print('Confusion Matrix:-\\n',confusion_matrix(y_train,pre1))\n",
    "print('-------------------------------------------------------------------------')\n",
    "print('Precision Score:-',precision_score(y_train,pre1))\n",
    "print('-------------------------------------------------------------------------')\n",
    "print('Recall Score:-',recall_score(y_train,pre1))\n",
    "print('-------------------------------------------------------------------------')\n",
    "print('F1 Score:-',f1_score(y_train,pre1))\n",
    "print('-------------------------------------------------------------------------')\n",
    "print('Classification Report:-\\n',classification_report(y_train,pre1))\n",
    "print('-------------------------------------------------------------------------')"
   ]
  },
  {
   "cell_type": "code",
   "execution_count": 180,
   "id": "956e3929-8d71-45fb-8e54-d8a8ec1ac613",
   "metadata": {},
   "outputs": [
    {
     "data": {
      "text/plain": [
       "Index(['age', 'chest_pain', 'blood_pressure', 'cholesterol',\n",
       "       'fasting_blood_sugar', 'ecg', 'max_heart_rate', 'target'],\n",
       "      dtype='object')"
      ]
     },
     "execution_count": 180,
     "metadata": {},
     "output_type": "execute_result"
    }
   ],
   "source": [
    "df.columns"
   ]
  },
  {
   "cell_type": "code",
   "execution_count": 181,
   "id": "4caeb796-3ca2-4aaa-a704-ff1a612371af",
   "metadata": {},
   "outputs": [
    {
     "data": {
      "text/plain": [
       "array([0], dtype=int64)"
      ]
     },
     "execution_count": 181,
     "metadata": {},
     "output_type": "execute_result"
    }
   ],
   "source": [
    "input=[[60,0,117,230,1,1,160]]\n",
    "model.predict(input)"
   ]
  },
  {
   "cell_type": "code",
   "execution_count": 182,
   "id": "e1531db0-696a-4ff9-8d22-f74e18a78081",
   "metadata": {},
   "outputs": [
    {
     "data": {
      "text/plain": [
       "['model.pkl']"
      ]
     },
     "execution_count": 182,
     "metadata": {},
     "output_type": "execute_result"
    }
   ],
   "source": [
    "joblib.dump(model,'model.pkl')"
   ]
  },
  {
   "cell_type": "code",
   "execution_count": null,
   "id": "4a344d29-36ea-43bb-98c5-25dc7520aad4",
   "metadata": {},
   "outputs": [],
   "source": []
  }
 ],
 "metadata": {
  "kernelspec": {
   "display_name": "Python 3 (ipykernel)",
   "language": "python",
   "name": "python3"
  },
  "language_info": {
   "codemirror_mode": {
    "name": "ipython",
    "version": 3
   },
   "file_extension": ".py",
   "mimetype": "text/x-python",
   "name": "python",
   "nbconvert_exporter": "python",
   "pygments_lexer": "ipython3",
   "version": "3.11.7"
  },
  "widgets": {
   "application/vnd.jupyter.widget-state+json": {
    "state": {},
    "version_major": 2,
    "version_minor": 0
   }
  }
 },
 "nbformat": 4,
 "nbformat_minor": 5
}
