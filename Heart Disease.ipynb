{
 "cells": [
  {
   "cell_type": "markdown",
   "id": "ac47588e-cbd4-46e3-9243-2548271e8074",
   "metadata": {},
   "source": [
    "# Heart Disease"
   ]
  },
  {
   "cell_type": "code",
   "execution_count": 173,
   "id": "dca03be5-06ff-410a-883d-136c44b66474",
   "metadata": {},
   "outputs": [],
   "source": [
    "import joblib\n",
    "import pandas as pd\n",
    "import numpy as np\n",
    "import matplotlib.pyplot as plt\n",
    "import seaborn as sns\n",
    "from sklearn.linear_model import LogisticRegression\n",
    "from sklearn.neighbors import KNeighborsClassifier\n",
    "from sklearn.svm import SVC\n",
    "from sklearn.ensemble import RandomForestClassifier\n",
    "from sklearn.tree import DecisionTreeClassifier\n",
    "from sklearn.model_selection import train_test_split\n",
    "from sklearn.metrics import confusion_matrix,precision_score,recall_score,f1_score,classification_report,accuracy_score"
   ]
  },
  {
   "cell_type": "markdown",
   "id": "b3f1fcca-7891-4183-aff3-799cae629555",
   "metadata": {},
   "source": [
    "# EDA"
   ]
  },
  {
   "cell_type": "code",
   "execution_count": 174,
   "id": "0a6c9322-7b95-40c3-91c8-47e1cb31f34a",
   "metadata": {},
   "outputs": [],
   "source": [
    "# df=pd.read_csv('heart.csv')\n",
    "# df.shape\n",
    "# df['target'].value_counts().plot(kind='bar',color=['salmon','lightblue'])\n",
    "# plt.show()\n",
    "# df.info()\n",
    "# df.isnull().sum()\n",
    "# df.describe()\n",
    "# df['sex'].value_counts()\n",
    "# pd.crosstab(df.target,df.sex)\n",
    "# pd.crosstab(df.target, df.sex).plot(kind=\"bar\",figsize=(10,6),color=[\"salmon\",\"lightblue\"])  \n",
    "# plt.title(\"Heart Disease Frerquency for Sex\")  \n",
    "# plt.xlabel(\"0 = No Disease, 1=Disease\")  \n",
    "# plt.ylabel(\"Amount\")  \n",
    "# plt.legend([\"Female\",\"Male\"]);  \n",
    "# plt.xticks(rotation=0);  \n",
    "# plt.figure(figsize=(10,6))\n",
    "# plt.scatter(df.age[df.target==1],df.thalach[df.target==1],c='salmon')\n",
    "# plt.scatter(df.age[df.target==0],df.thalach[df.target==0],c='lightblue')\n",
    "# plt.title('Heart Disease in function of age and max Heart Rate')\n",
    "# plt.xlabel('Age')\n",
    "# plt.ylabel('Max Heart Rate')\n",
    "# plt.legend(['Disease','No Disease'])\n",
    "# plt.show()\n",
    "# df.age.plot.hist()\n",
    "# plt.show()\n",
    "# pd.crosstab(df.cp,df.target)\n",
    "# pd.crosstab(df.cp,df.target).plot(kind='bar',figsize=(10,6),color=['salmon','lightblue'])\n",
    "# plt.title('Heart Disease Frequency Per Chest Pain Type')\n",
    "# plt.xlabel('Chest Pain Type')\n",
    "# plt.ylabel('Amount')\n",
    "# plt.legend(['No Disease','Disease'])\n",
    "# plt.xticks(rotation=0)\n",
    "# plt.show()\n",
    "# df.corr()\n",
    "# corr_matrix=df.corr()\n",
    "# fig,ax=plt.subplots(figsize=(15,10))\n",
    "# ax=sns.heatmap(corr_matrix,annot=True,linewidths=0.5,fmt='.2f',cmap='YlGnBu')\n",
    "# bottom,top=ax.get_ylim()\n",
    "# ax.set_ylim(bottom + 0.5, top-0.5)"
   ]
  },
  {
   "cell_type": "code",
   "execution_count": 175,
   "id": "0728b344-59a1-4065-a234-968714d07a9d",
   "metadata": {},
   "outputs": [],
   "source": [
    "df=pd.read_csv('heart.csv')\n",
    "df.drop(['sex','exang','oldpeak','slope','ca','thal'],axis=1,inplace=True)\n",
    "df.rename(columns={'cp':'chest_pain','trestbps':'blood_pressure','chol':'cholesterol','fbs':'fasting_blood_sugar','restecg':'ecg','thalach':'max_heart_rate'},inplace=True)\n",
    "X=df.iloc[:,:-1].values\n",
    "y=df.iloc[:,-1].values\n",
    "X_train,X_test,y_train,y_test=train_test_split(X,y,test_size=0.3,random_state=1)"
   ]
  },
  {
   "cell_type": "code",
   "execution_count": 176,
   "id": "4e96e5fb-4511-4b9f-872e-b4b3fea287f1",
   "metadata": {},
   "outputs": [],
   "source": [
    "# # KNN\n",
    "# model=KNeighborsClassifier()\n",
    "# model.fit(X_train,y_train)\n",
    "# print('Training Score:-',model.score(X_train,y_train))\n",
    "# print('Testing Score:-',model.score(X_test,y_test))\n",
    "# Training Score:- 0.8577405857740585\n",
    "# Testing Score:- 0.711038961038961\n",
    "\n",
    "# # ---------------------------------------------------------------------------------------------------------------------------------------------------------------------------------\n",
    "# # Decision Tree Classifier\n",
    "# model=DecisionTreeClassifier(random_state=1,max_depth=10)\n",
    "# model.fit(X_train,y_train)\n",
    "# print('Training Score:-',model.score(X_train,y_train))\n",
    "# print('Testing Score:-',model.score(X_test,y_test))\n",
    "# Training Score:- 0.9846582984658299\n",
    "# Testing Score:- 0.935064935064935\n",
    "\n",
    "# # ---------------------------------------------------------------------------------------------------------------------------------------------------------------------------------\n",
    "# # Random Forest Classifier\n",
    "# model=RandomForestClassifier(random_state=1,max_depth=7)\n",
    "# model.fit(X_train,y_train)\n",
    "# print('Training Score:-',model.score(X_train,y_train))\n",
    "# print('Testing Score:-',model.score(X_test,y_test))\n",
    "# Training Score:- 0.9860529986052998\n",
    "# Testing Score:- 0.9318181818181818\n",
    "\n",
    "# # ---------------------------------------------------------------------------------------------------------------------------------------------------------------------------------\n",
    "# # Logistic Regression\n",
    "# model=LogisticRegression(random_state=1,solver='liblinear',max_iter=200)\n",
    "# model.fit(X_train,y_train)\n",
    "# print('Training Score:-',model.score(X_train,y_train))\n",
    "# print('Testing Score:-',model.score(X_test,y_test))\n",
    "# Training Score:- 0.7573221757322176\n",
    "# Testing Score:- 0.737012987012987\n",
    "\n",
    "# # ---------------------------------------------------------------------------------------------------------------------------------------------------------------------------------\n",
    "# # SVM\n",
    "# model=SVC(random_state=1)\n",
    "# model.fit(X_train,y_train)\n",
    "# print('Training Score:-',model.score(X_train,y_train))\n",
    "# print('Testing Score:-',model.score(X_test,y_test))\n",
    "# Training Score:- 0.705718270571827\n",
    "# Testing Score:- 0.6688311688311688\n",
    "\n",
    "# # ---------------------------------------------------------------------------------------------------------------------------------------------------------------------------------"
   ]
  },
  {
   "cell_type": "code",
   "execution_count": 177,
   "id": "1184bb0b-ebe2-46f0-a6b6-a1cb33a680f5",
   "metadata": {},
   "outputs": [
    {
     "name": "stdout",
     "output_type": "stream",
     "text": [
      "Training Score:- 0.9860529986052998\n",
      "Testing Score:- 0.9318181818181818\n"
     ]
    }
   ],
   "source": [
    "# Random Forest Classifier\n",
    "model=RandomForestClassifier(random_state=1,max_depth=7)\n",
    "model.fit(X_train,y_train)\n",
    "print('Training Score:-',model.score(X_train,y_train))\n",
    "print('Testing Score:-',model.score(X_test,y_test))"
   ]
  },
  {
   "cell_type": "code",
   "execution_count": 178,
   "id": "96075b06-6922-4a6d-8bf7-dc9d2b26eedc",
   "metadata": {},
   "outputs": [
    {
     "name": "stdout",
     "output_type": "stream",
     "text": [
      "Accuracy Score:-\n",
      " 0.9318181818181818\n",
      "-------------------------------------------------------------------------\n",
      "Confusion Matrix:-\n",
      " [[150  11]\n",
      " [ 10 137]]\n",
      "-------------------------------------------------------------------------\n",
      "Precision Score:- 0.9256756756756757\n",
      "-------------------------------------------------------------------------\n",
      "Recall Score:- 0.9319727891156463\n",
      "-------------------------------------------------------------------------\n",
      "F1 Score:- 0.9288135593220339\n",
      "-------------------------------------------------------------------------\n",
      "Classification Report:-\n",
      "               precision    recall  f1-score   support\n",
      "\n",
      "           0       0.94      0.93      0.93       161\n",
      "           1       0.93      0.93      0.93       147\n",
      "\n",
      "    accuracy                           0.93       308\n",
      "   macro avg       0.93      0.93      0.93       308\n",
      "weighted avg       0.93      0.93      0.93       308\n",
      "\n",
      "-------------------------------------------------------------------------\n"
     ]
    }
   ],
   "source": [
    "pre=model.predict(X_test)\n",
    "print('Accuracy Score:-\\n',accuracy_score(y_test,pre))\n",
    "print('-------------------------------------------------------------------------')\n",
    "print('Confusion Matrix:-\\n',confusion_matrix(y_test,pre))\n",
    "print('-------------------------------------------------------------------------')\n",
    "print('Precision Score:-',precision_score(y_test,pre))\n",
    "print('-------------------------------------------------------------------------')\n",
    "print('Recall Score:-',recall_score(y_test,pre))\n",
    "print('-------------------------------------------------------------------------')\n",
    "print('F1 Score:-',f1_score(y_test,pre))\n",
    "print('-------------------------------------------------------------------------')\n",
    "print('Classification Report:-\\n',classification_report(y_test,pre))\n",
    "print('-------------------------------------------------------------------------')"
   ]
  },
  {
   "cell_type": "code",
   "execution_count": 179,
   "id": "9a8c2b61-c656-4d6f-a188-02c75b87ee71",
   "metadata": {},
   "outputs": [
    {
     "name": "stdout",
     "output_type": "stream",
     "text": [
      "Accuracy Score:- 0.9860529986052998\n",
      "-------------------------------------------------------------------------\n",
      "Confusion Matrix:-\n",
      " [[334   4]\n",
      " [  6 373]]\n",
      "-------------------------------------------------------------------------\n",
      "Precision Score:- 0.9893899204244032\n",
      "-------------------------------------------------------------------------\n",
      "Recall Score:- 0.9841688654353562\n",
      "-------------------------------------------------------------------------\n",
      "F1 Score:- 0.9867724867724867\n",
      "-------------------------------------------------------------------------\n",
      "Classification Report:-\n",
      "               precision    recall  f1-score   support\n",
      "\n",
      "           0       0.98      0.99      0.99       338\n",
      "           1       0.99      0.98      0.99       379\n",
      "\n",
      "    accuracy                           0.99       717\n",
      "   macro avg       0.99      0.99      0.99       717\n",
      "weighted avg       0.99      0.99      0.99       717\n",
      "\n",
      "-------------------------------------------------------------------------\n"
     ]
    }
   ],
   "source": [
    "pre1=model.predict(X_train)\n",
    "print('Accuracy Score:-',accuracy_score(y_train,pre1))\n",
    "print('-------------------------------------------------------------------------')\n",
    "print('Confusion Matrix:-\\n',confusion_matrix(y_train,pre1))\n",
    "print('-------------------------------------------------------------------------')\n",
    "print('Precision Score:-',precision_score(y_train,pre1))\n",
    "print('-------------------------------------------------------------------------')\n",
    "print('Recall Score:-',recall_score(y_train,pre1))\n",
    "print('-------------------------------------------------------------------------')\n",
    "print('F1 Score:-',f1_score(y_train,pre1))\n",
    "print('-------------------------------------------------------------------------')\n",
    "print('Classification Report:-\\n',classification_report(y_train,pre1))\n",
    "print('-------------------------------------------------------------------------')"
   ]
  },
  {
   "cell_type": "code",
   "execution_count": 181,
   "id": "4caeb796-3ca2-4aaa-a704-ff1a612371af",
   "metadata": {},
   "outputs": [
    {
     "data": {
      "text/plain": [
       "array([0], dtype=int64)"
      ]
     },
     "execution_count": 181,
     "metadata": {},
     "output_type": "execute_result"
    }
   ],
   "source": [
    "input=[[60,0,117,230,1,1,160]]\n",
    "model.predict(input)"
   ]
  },
  {
   "cell_type": "code",
   "execution_count": 182,
   "id": "e1531db0-696a-4ff9-8d22-f74e18a78081",
   "metadata": {},
   "outputs": [
    {
     "data": {
      "text/plain": [
       "['model.pkl']"
      ]
     },
     "execution_count": 182,
     "metadata": {},
     "output_type": "execute_result"
    }
   ],
   "source": [
    "joblib.dump(model,'model.pkl')"
   ]
  },
  {
   "cell_type": "code",
   "execution_count": 186,
   "id": "6831a323-da37-41c7-895b-2c73ee9ad71a",
   "metadata": {},
   "outputs": [],
   "source": [
    "df2=df.to_csv('test.csv')"
   ]
  },
  {
   "cell_type": "code",
   "execution_count": 185,
   "id": "956e3929-8d71-45fb-8e54-d8a8ec1ac613",
   "metadata": {},
   "outputs": [
    {
     "data": {
      "text/plain": [
       "Index(['age', 'chest_pain', 'blood_pressure', 'cholesterol',\n",
       "       'fasting_blood_sugar', 'ecg', 'max_heart_rate', 'target'],\n",
       "      dtype='object')"
      ]
     },
     "execution_count": 185,
     "metadata": {},
     "output_type": "execute_result"
    }
   ],
   "source": [
    "df.columns"
   ]
  },
  {
   "cell_type": "code",
   "execution_count": 187,
   "id": "df7007c9-3649-4ea6-9494-dc0e19773a88",
   "metadata": {},
   "outputs": [
    {
     "data": {
      "text/html": [
       "<div>\n",
       "<style scoped>\n",
       "    .dataframe tbody tr th:only-of-type {\n",
       "        vertical-align: middle;\n",
       "    }\n",
       "\n",
       "    .dataframe tbody tr th {\n",
       "        vertical-align: top;\n",
       "    }\n",
       "\n",
       "    .dataframe thead th {\n",
       "        text-align: right;\n",
       "    }\n",
       "</style>\n",
       "<table border=\"1\" class=\"dataframe\">\n",
       "  <thead>\n",
       "    <tr style=\"text-align: right;\">\n",
       "      <th></th>\n",
       "      <th>age</th>\n",
       "      <th>chest_pain</th>\n",
       "      <th>blood_pressure</th>\n",
       "      <th>cholesterol</th>\n",
       "      <th>fasting_blood_sugar</th>\n",
       "      <th>ecg</th>\n",
       "      <th>max_heart_rate</th>\n",
       "      <th>target</th>\n",
       "    </tr>\n",
       "  </thead>\n",
       "  <tbody>\n",
       "    <tr>\n",
       "      <th>count</th>\n",
       "      <td>1025.000000</td>\n",
       "      <td>1025.000000</td>\n",
       "      <td>1025.000000</td>\n",
       "      <td>1025.00000</td>\n",
       "      <td>1025.000000</td>\n",
       "      <td>1025.000000</td>\n",
       "      <td>1025.000000</td>\n",
       "      <td>1025.000000</td>\n",
       "    </tr>\n",
       "    <tr>\n",
       "      <th>mean</th>\n",
       "      <td>54.434146</td>\n",
       "      <td>0.942439</td>\n",
       "      <td>131.611707</td>\n",
       "      <td>246.00000</td>\n",
       "      <td>0.149268</td>\n",
       "      <td>0.529756</td>\n",
       "      <td>149.114146</td>\n",
       "      <td>0.513171</td>\n",
       "    </tr>\n",
       "    <tr>\n",
       "      <th>std</th>\n",
       "      <td>9.072290</td>\n",
       "      <td>1.029641</td>\n",
       "      <td>17.516718</td>\n",
       "      <td>51.59251</td>\n",
       "      <td>0.356527</td>\n",
       "      <td>0.527878</td>\n",
       "      <td>23.005724</td>\n",
       "      <td>0.500070</td>\n",
       "    </tr>\n",
       "    <tr>\n",
       "      <th>min</th>\n",
       "      <td>29.000000</td>\n",
       "      <td>0.000000</td>\n",
       "      <td>94.000000</td>\n",
       "      <td>126.00000</td>\n",
       "      <td>0.000000</td>\n",
       "      <td>0.000000</td>\n",
       "      <td>71.000000</td>\n",
       "      <td>0.000000</td>\n",
       "    </tr>\n",
       "    <tr>\n",
       "      <th>25%</th>\n",
       "      <td>48.000000</td>\n",
       "      <td>0.000000</td>\n",
       "      <td>120.000000</td>\n",
       "      <td>211.00000</td>\n",
       "      <td>0.000000</td>\n",
       "      <td>0.000000</td>\n",
       "      <td>132.000000</td>\n",
       "      <td>0.000000</td>\n",
       "    </tr>\n",
       "    <tr>\n",
       "      <th>50%</th>\n",
       "      <td>56.000000</td>\n",
       "      <td>1.000000</td>\n",
       "      <td>130.000000</td>\n",
       "      <td>240.00000</td>\n",
       "      <td>0.000000</td>\n",
       "      <td>1.000000</td>\n",
       "      <td>152.000000</td>\n",
       "      <td>1.000000</td>\n",
       "    </tr>\n",
       "    <tr>\n",
       "      <th>75%</th>\n",
       "      <td>61.000000</td>\n",
       "      <td>2.000000</td>\n",
       "      <td>140.000000</td>\n",
       "      <td>275.00000</td>\n",
       "      <td>0.000000</td>\n",
       "      <td>1.000000</td>\n",
       "      <td>166.000000</td>\n",
       "      <td>1.000000</td>\n",
       "    </tr>\n",
       "    <tr>\n",
       "      <th>max</th>\n",
       "      <td>77.000000</td>\n",
       "      <td>3.000000</td>\n",
       "      <td>200.000000</td>\n",
       "      <td>564.00000</td>\n",
       "      <td>1.000000</td>\n",
       "      <td>2.000000</td>\n",
       "      <td>202.000000</td>\n",
       "      <td>1.000000</td>\n",
       "    </tr>\n",
       "  </tbody>\n",
       "</table>\n",
       "</div>"
      ],
      "text/plain": [
       "               age   chest_pain  blood_pressure  cholesterol  \\\n",
       "count  1025.000000  1025.000000     1025.000000   1025.00000   \n",
       "mean     54.434146     0.942439      131.611707    246.00000   \n",
       "std       9.072290     1.029641       17.516718     51.59251   \n",
       "min      29.000000     0.000000       94.000000    126.00000   \n",
       "25%      48.000000     0.000000      120.000000    211.00000   \n",
       "50%      56.000000     1.000000      130.000000    240.00000   \n",
       "75%      61.000000     2.000000      140.000000    275.00000   \n",
       "max      77.000000     3.000000      200.000000    564.00000   \n",
       "\n",
       "       fasting_blood_sugar          ecg  max_heart_rate       target  \n",
       "count          1025.000000  1025.000000     1025.000000  1025.000000  \n",
       "mean              0.149268     0.529756      149.114146     0.513171  \n",
       "std               0.356527     0.527878       23.005724     0.500070  \n",
       "min               0.000000     0.000000       71.000000     0.000000  \n",
       "25%               0.000000     0.000000      132.000000     0.000000  \n",
       "50%               0.000000     1.000000      152.000000     1.000000  \n",
       "75%               0.000000     1.000000      166.000000     1.000000  \n",
       "max               1.000000     2.000000      202.000000     1.000000  "
      ]
     },
     "execution_count": 187,
     "metadata": {},
     "output_type": "execute_result"
    }
   ],
   "source": [
    "df.describe()"
   ]
  },
  {
   "cell_type": "code",
   "execution_count": null,
   "id": "0d98e130-18e9-4dfe-8ee8-ccb002c0636b",
   "metadata": {},
   "outputs": [],
   "source": []
  }
 ],
 "metadata": {
  "kernelspec": {
   "display_name": "Python 3 (ipykernel)",
   "language": "python",
   "name": "python3"
  },
  "language_info": {
   "codemirror_mode": {
    "name": "ipython",
    "version": 3
   },
   "file_extension": ".py",
   "mimetype": "text/x-python",
   "name": "python",
   "nbconvert_exporter": "python",
   "pygments_lexer": "ipython3",
   "version": "3.11.7"
  },
  "widgets": {
   "application/vnd.jupyter.widget-state+json": {
    "state": {},
    "version_major": 2,
    "version_minor": 0
   }
  }
 },
 "nbformat": 4,
 "nbformat_minor": 5
}
